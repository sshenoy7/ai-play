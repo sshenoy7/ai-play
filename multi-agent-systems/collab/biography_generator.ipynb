{
 "cells": [
  {
   "cell_type": "markdown",
   "metadata": {},
   "source": [
    "Load the environment variables"
   ]
  },
  {
   "cell_type": "code",
   "execution_count": 1,
   "metadata": {},
   "outputs": [
    {
     "data": {
      "text/plain": [
       "True"
      ]
     },
     "execution_count": 1,
     "metadata": {},
     "output_type": "execute_result"
    }
   ],
   "source": [
    "from dotenv import load_dotenv\n",
    "\n",
    "load_dotenv()"
   ]
  },
  {
   "cell_type": "markdown",
   "metadata": {},
   "source": [
    "Marking the GraphState"
   ]
  },
  {
   "cell_type": "code",
   "execution_count": 2,
   "metadata": {},
   "outputs": [],
   "source": [
    "from typing import TypedDict, Annotated, List, Union, Sequence\n",
    "from langchain_core.agents import AgentAction, AgentFinish\n",
    "from langchain_core.messages import BaseMessage\n",
    "import operator\n",
    "\n",
    "class AgentState(TypedDict):\n",
    "    messages: Annotated[Sequence[BaseMessage], operator.add]"
   ]
  },
  {
   "cell_type": "markdown",
   "metadata": {},
   "source": [
    "Custom Tools\n",
    "\n",
    "Tools are interfaces that an agent can use to interact with the world. They combine a few things:\n",
    "1. The name of the tool\n",
    "2. A description of what the tool is\n",
    "3. JSON schema of what the inputs to the tool are\n",
    "4. The function to call\n",
    "5. Whether the result of a tool should be returned directly to the user"
   ]
  },
  {
   "cell_type": "code",
   "execution_count": 3,
   "metadata": {},
   "outputs": [],
   "source": [
    "import random\n",
    "from langchain_community.tools.tavily_search import TavilySearchResults\n",
    "\n",
    "tavily_tool = TavilySearchResults(max_results=5)\n",
    "\n",
    "tools = [tavily_tool]\n"
   ]
  },
  {
   "cell_type": "markdown",
   "metadata": {},
   "source": [
    "Agent - with binding"
   ]
  },
  {
   "cell_type": "code",
   "execution_count": 4,
   "metadata": {},
   "outputs": [],
   "source": [
    "from langchain import hub\n",
    "from langchain_openai.chat_models import ChatOpenAI\n",
    "from langchain_core.utils.function_calling import convert_to_openai_function\n",
    "\n",
    "# Get the prompt to use - you can modify this!\n",
    "prompt = hub.pull(\"hwchase17/openai-functions-agent\")\n",
    "\n",
    "# Choose the LLM that will drive the agent\n",
    "model = ChatOpenAI( temperature=0, streaming=True)\n",
    "\n",
    "# Bind the functions to model\n",
    "functions = [convert_to_openai_function(t) for t in tools]\n",
    "model = model.bind_functions(functions)"
   ]
  },
  {
   "cell_type": "markdown",
   "metadata": {},
   "source": [
    "Nodes"
   ]
  },
  {
   "cell_type": "code",
   "execution_count": 5,
   "metadata": {},
   "outputs": [],
   "source": [
    "# Tools Executor\n",
    "from langgraph.prebuilt.tool_executor import ToolExecutor\n",
    "\n",
    "tool_executor = ToolExecutor(tools)"
   ]
  },
  {
   "cell_type": "code",
   "execution_count": 6,
   "metadata": {},
   "outputs": [],
   "source": [
    "from langchain_core.agents import AgentFinish\n",
    "from langgraph.prebuilt import ToolInvocation\n",
    "import json\n",
    "from langchain_core.messages import FunctionMessage\n",
    "\n",
    "# Define logic that will be used to determine which conditional edge to go down\n",
    "def should_continue(state):\n",
    "    messages = state['messages']\n",
    "    last_message = messages[-1]\n",
    "    # If there is no function call, then we finish\n",
    "    if \"function_call\" not in last_message.additional_kwargs:\n",
    "        return \"end\"\n",
    "    # Otherwise we continue\n",
    "    else:\n",
    "        return \"continue\"\n",
    "\n",
    "# Define the function that calls the model\n",
    "def call_model(state):\n",
    "    messages = state['messages']\n",
    "    response = model.invoke(messages)\n",
    "    # We return a list, because this will get added to the existing list\n",
    "    return {\"messages\": [response]}\n",
    "\n",
    "# Defin the function to execute tools\n",
    "def call_tool(state):\n",
    "    messages = state['messages']\n",
    "    # Based on the continue condition\n",
    "    # we know the last message involves a function call\n",
    "    last_message = messages[-1]\n",
    "    # We construct a ToolInvocation from the function_call\n",
    "    action = ToolInvocation(\n",
    "        tool=last_message.additional_kwargs[\"function_call\"][\"name\"],\n",
    "        tool_input=json.loads(last_message.additional_kwargs[\"function_call\"][\"arguments\"]),\n",
    "    )\n",
    "    print(f\"The agent action is {action}\")\n",
    "    # We call the tool_executor and get back a response\n",
    "    response = tool_executor.invoke(action)\n",
    "    print(f\"The tool result is: {response}\")\n",
    "    # We use the response to create a FunctionMessage\n",
    "    function_message = FunctionMessage(content=str(response), name = action.tool)\n",
    "    # We return a list, because this will get added to the existing list\n",
    "    return {\"messages\": [function_message]}\n"
   ]
  },
  {
   "cell_type": "markdown",
   "metadata": {},
   "source": [
    "Define the graph"
   ]
  },
  {
   "cell_type": "code",
   "execution_count": 7,
   "metadata": {},
   "outputs": [],
   "source": [
    "from langgraph.graph import END, StateGraph\n",
    "\n",
    "# Define a new graph\n",
    "workflow = StateGraph(AgentState)\n",
    "\n",
    "# Define the two nodes we will cycle between\n",
    "workflow.add_node(\"agent\", call_model)\n",
    "workflow.add_node(\"action\", call_tool)\n",
    "\n",
    "# Set the entrypoint as `agent`\n",
    "# This means that this node is the first one called\n",
    "workflow.set_entry_point(\"agent\")\n",
    "\n",
    "# We now add a conditional edge\n",
    "workflow.add_conditional_edges(\n",
    "    # First, we define the start node. We use `agent`.\n",
    "    # This means these are the edges taken after the `agent` node is called.\n",
    "    \"agent\",\n",
    "    # Next, we pass in the function that will determine which node is called next.\n",
    "    should_continue,\n",
    "    # Finally, we pass in a mapping.\n",
    "    # The keys are strings, and the values are other nodes.\n",
    "    # END is a special node marking that the graph should finish.\n",
    "    # What will happen is we will call `should_continue`, and then the output of that\n",
    "    # will be matched against the keys in this mapping.\n",
    "    # Based on which one it matches, that node will then be called.\n",
    "    {\n",
    "        # If `tools`, then we call the tool node.\n",
    "        \"continue\": \"action\",\n",
    "        # Otherwise we finish\n",
    "        \"end\": END\n",
    "    }\n",
    ")\n",
    "\n",
    "# We now add a normal edge from `tools` to `agent`.\n",
    "# This means that adter `tools` is called, `agent` node is called next.\n",
    "workflow.add_edge('action', 'agent')\n",
    "\n",
    "# Finally, we compile it!\n",
    "# This compiles it into a LangChain Runnable,\n",
    "# meaning you can use it as you would any other runnable\n",
    "app = workflow.compile()\n"
   ]
  },
  {
   "cell_type": "markdown",
   "metadata": {},
   "source": [
    "Run it!!"
   ]
  },
  {
   "cell_type": "code",
   "execution_count": 8,
   "metadata": {},
   "outputs": [
    {
     "name": "stdout",
     "output_type": "stream",
     "text": [
      "The agent action is tool='tavily_search_results_json' tool_input={'query': 'Udupi Sandeep Shenoy Zeta'}\n",
      "The tool result is: [{'url': 'http://mahalaxmieyeclinic.com/about_doctors.html', 'content': 'Doctors. DR SANDEEP SHENAI.K : Did his MBBS from Kasturba Medical College Manipal and then M.S (Ophthal) from the same college. Was recepient of Dr Srinivas Rao best out going student in1994. Worked under Dr Suhas Haldipurkar at Laxmi Eye Institute,Panvel before establishing Mahalaxmi Eye Clinic and Laser Centre in 1996.'}, {'url': 'https://www.zoominfo.com/p/Udupi-Shenoy/10157168616', 'content': \"Get the details of Udupi Shenoy's business profile including email address, phone number, work history and more. Products. ... Manager, Engineering at Zeta India Incorporation View Contact Info for Free . Udupi Shenoy Email & Phone number. Engage via Email. u***@zetaindia.net.\"}, {'url': 'https://www.linkedin.com/pub/dir/Sandeep/Shenoy/in-0-India', 'content': 'There are 90+ professionals named \"Sandeep Shenoy\", who use LinkedIn to exchange information, ideas, and opportunities. ... Udupi Sandeep Shenoy Bengaluru. Zeta India, +3 more , +1 more ...'}, {'url': 'https://in.linkedin.com/in/sandeep-shenoy-u', 'content': \"A maker, enabler and relentless problem solver with over 7+ years of experience as a… · Education: The University of Texas at Dallas · Location: Bengaluru, Karnataka, India · 480 connections on LinkedIn. View Udupi Sandeep Shenoy's profile on LinkedIn, a professional community of 1 billion members.\"}, {'url': 'https://www.linkedin.com/pub/dir/Udupi/Shenoy', 'content': 'There are 4 professionals named \"Udupi Shenoy\", who use LinkedIn to exchange information, ideas, and opportunities. ... Udupi Sandeep Shenoy Bengaluru. Zeta India, +3 more , +1 more ...'}]\n"
     ]
    },
    {
     "data": {
      "text/plain": [
       "{'messages': [SystemMessage(content='You are a very helpful assistant'),\n",
       "  HumanMessage(content='Please fetch publicly available information about Udupi Sandeep Shenoy Zeta. Then, Summarise this information in 2 paragraphs of not more than 3 sentences. Also, provide all available social media URLs of that person'),\n",
       "  AIMessage(content='', additional_kwargs={'function_call': {'arguments': '{\"query\":\"Udupi Sandeep Shenoy Zeta\"}', 'name': 'tavily_search_results_json'}}, response_metadata={'finish_reason': 'function_call'}, id='run-8631ad2b-4fc6-447e-a3e5-9a6b96e31207-0'),\n",
       "  FunctionMessage(content='[{\\'url\\': \\'http://mahalaxmieyeclinic.com/about_doctors.html\\', \\'content\\': \\'Doctors. DR SANDEEP SHENAI.K : Did his MBBS from Kasturba Medical College Manipal and then M.S (Ophthal) from the same college. Was recepient of Dr Srinivas Rao best out going student in1994. Worked under Dr Suhas Haldipurkar at Laxmi Eye Institute,Panvel before establishing Mahalaxmi Eye Clinic and Laser Centre in 1996.\\'}, {\\'url\\': \\'https://www.zoominfo.com/p/Udupi-Shenoy/10157168616\\', \\'content\\': \"Get the details of Udupi Shenoy\\'s business profile including email address, phone number, work history and more. Products. ... Manager, Engineering at Zeta India Incorporation View Contact Info for Free . Udupi Shenoy Email & Phone number. Engage via Email. u***@zetaindia.net.\"}, {\\'url\\': \\'https://www.linkedin.com/pub/dir/Sandeep/Shenoy/in-0-India\\', \\'content\\': \\'There are 90+ professionals named \"Sandeep Shenoy\", who use LinkedIn to exchange information, ideas, and opportunities. ... Udupi Sandeep Shenoy Bengaluru. Zeta India, +3 more , +1 more ...\\'}, {\\'url\\': \\'https://in.linkedin.com/in/sandeep-shenoy-u\\', \\'content\\': \"A maker, enabler and relentless problem solver with over 7+ years of experience as a… · Education: The University of Texas at Dallas · Location: Bengaluru, Karnataka, India · 480 connections on LinkedIn. View Udupi Sandeep Shenoy\\'s profile on LinkedIn, a professional community of 1 billion members.\"}, {\\'url\\': \\'https://www.linkedin.com/pub/dir/Udupi/Shenoy\\', \\'content\\': \\'There are 4 professionals named \"Udupi Shenoy\", who use LinkedIn to exchange information, ideas, and opportunities. ... Udupi Sandeep Shenoy Bengaluru. Zeta India, +3 more , +1 more ...\\'}]', name='tavily_search_results_json'),\n",
       "  AIMessage(content='Udupi Sandeep Shenoy Zeta is a professional with over 7+ years of experience, known for his work at Zeta India. He holds a degree from The University of Texas at Dallas and has 480 connections on LinkedIn. Udupi Sandeep Shenoy is a maker, enabler, and relentless problem solver in the industry.\\n\\nUdupi Sandeep Shenoy Zeta is associated with Zeta India and has a background in engineering. He has worked in the field for several years and is recognized for his expertise and contributions. Udupi Sandeep Shenoy is active on LinkedIn, where he engages with a professional community of over 1 billion members.', response_metadata={'finish_reason': 'stop'}, id='run-c6adfbe9-e4a3-4960-9124-ef8640eb2e55-0')]}"
      ]
     },
     "execution_count": 8,
     "metadata": {},
     "output_type": "execute_result"
    }
   ],
   "source": [
    "from langchain_core.messages import HumanMessage, SystemMessage\n",
    "\n",
    "system_message = SystemMessage(content=\"You are a very helpful assistant\")\n",
    "user_01 = HumanMessage(\n",
    "    content=\n",
    "    \"Please fetch publicly available information about Udupi Sandeep Shenoy Zeta.\"\n",
    "    \" Then, Summarise this information in 2 paragraphs of not more than 3 sentences.\"\n",
    "    \" Also, provide all available social media URLs of that person\"\n",
    ")\n",
    "inputs = {\n",
    "    \"messages\": [system_message, user_01]\n",
    "}\n",
    "\n",
    "app.invoke(inputs)"
   ]
  }
 ],
 "metadata": {
  "kernelspec": {
   "display_name": "lgraph",
   "language": "python",
   "name": "python3"
  },
  "language_info": {
   "codemirror_mode": {
    "name": "ipython",
    "version": 3
   },
   "file_extension": ".py",
   "mimetype": "text/x-python",
   "name": "python",
   "nbconvert_exporter": "python",
   "pygments_lexer": "ipython3",
   "version": "3.12.3"
  }
 },
 "nbformat": 4,
 "nbformat_minor": 2
}
